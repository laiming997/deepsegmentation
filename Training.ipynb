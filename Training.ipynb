{
 "cells": [
  {
   "cell_type": "code",
   "execution_count": null,
   "metadata": {},
   "outputs": [],
   "source": [
    "%load_ext autoreload\n",
    "%autoreload 2"
   ]
  },
  {
   "cell_type": "code",
   "execution_count": null,
   "metadata": {},
   "outputs": [],
   "source": [
    "import torch\n",
    "from data.pointCld_dataset import PointCld_dataset\n",
    "from training import *\n",
    "from PolyhedronGenerator.polyhedronGenerator import Point\n"
   ]
  },
  {
   "cell_type": "code",
   "execution_count": null,
   "metadata": {},
   "outputs": [],
   "source": [
    "'Set an experiment name. Uncomment delete_experiment, if path exists and shall be overwritten.'\n",
    "path = 'Clean_Training'\n",
    "delete_experiment(path)\n",
    "params = create_experiment(path)\n",
    "'Uncomment, if existing experiment shall be continued. Give path of existing experiment as input.'\n",
    "#params = create_retrain_experiment('data/network_data/' + path[:-len('_ContAfter7')] + '/epoch_7_trained_model.pth')\n",
    "cfg_path=params[\"cfg_path\"]"
   ]
  },
  {
   "cell_type": "code",
   "execution_count": null,
   "metadata": {},
   "outputs": [],
   "source": [
    "'Generate new datasets if dataset_name does not exist. Otherwise, use existing one.'\n",
    "train_dataset = PointCld_dataset(dataset_name='clean_polyhedra_train_500',\n",
    "                                    size=500, mode=Mode.TRAIN, cfg_path=cfg_path, augmentation=None, batch_size=1)\n",
    "\n",
    "train_loader = torch.utils.data.DataLoader(dataset=train_dataset,\n",
    "                                               batch_size=1,\n",
    "                                               shuffle=True, num_workers=4)\n",
    "\n",
    "validate_dataset = PointCld_dataset(dataset_name='clean_polyhedra_validate_50', size=50, cfg_path=cfg_path, mode=Mode.TRAIN, seed=7, batch_size=1)\n",
    "validate_loader = torch.utils.data.DataLoader(dataset=validate_dataset,\n",
    "                                              batch_size=1,\n",
    "                                              shuffle=False, num_workers=4)\n",
    "\n",
    "test_dataset = PointCld_dataset(dataset_name='clean_polyhedra_test_50', size=50, cfg_path=cfg_path, mode=Mode.TEST, seed=105, batch_size=1)\n",
    "test_loader = torch.utils.data.DataLoader(dataset=test_dataset,\n",
    "                                              batch_size=1,\n",
    "                                              shuffle=False, num_workers=4)\n",
    "\n",
    "trainer = Training(cfg_path, cuda_device_id=0)"
   ]
  },
  {
   "cell_type": "code",
   "execution_count": null,
   "metadata": {
    "scrolled": true
   },
   "outputs": [],
   "source": [
    "'Execute training.'\n",
    "optimiser_params = {'lr': 1e-4}\n",
    "nr_voxels_per_dim = 21\n",
    "wr = 8\n",
    "\n",
    "trainer.setup_model(model=Network, convModel = 'resnet', weight_ratio=wr,\n",
    "                    optimiser=torch.optim.Adam, optimiser_params=optimiser_params,\n",
    "                    loss_function=nn.CrossEntropyLoss, nr_voxels_per_dim=nr_voxels_per_dim, batch_size=500)\n",
    "\n",
    "trainer.execute_training(train_loader, validate_loader, num_epochs=13, do_preprocessing=True, validate_frequency=1)"
   ]
  },
  {
   "cell_type": "code",
   "execution_count": null,
   "metadata": {},
   "outputs": [],
   "source": []
  },
  {
   "cell_type": "code",
   "execution_count": null,
   "metadata": {},
   "outputs": [],
   "source": []
  }
 ],
 "metadata": {
  "kernelspec": {
   "display_name": "Python 3",
   "language": "python",
   "name": "python3"
  },
  "language_info": {
   "codemirror_mode": {
    "name": "ipython",
    "version": 3
   },
   "file_extension": ".py",
   "mimetype": "text/x-python",
   "name": "python",
   "nbconvert_exporter": "python",
   "pygments_lexer": "ipython3",
   "version": "3.6.8"
  }
 },
 "nbformat": 4,
 "nbformat_minor": 2
}
