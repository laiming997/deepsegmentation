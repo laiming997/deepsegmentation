{
 "cells": [
  {
   "cell_type": "code",
   "execution_count": null,
   "metadata": {},
   "outputs": [],
   "source": [
    "%load_ext autoreload\n",
    "%autoreload 2"
   ]
  },
  {
   "cell_type": "code",
   "execution_count": null,
   "metadata": {},
   "outputs": [],
   "source": [
    "import torch\n",
    "from data.pointCld_dataset import PointCld_dataset\n",
    "from evaluation import *\n",
    "from PolyhedronGenerator.polyhedronGenerator import Point"
   ]
  },
  {
   "cell_type": "code",
   "execution_count": null,
   "metadata": {},
   "outputs": [],
   "source": [
    "path='Clean_paper'\n",
    "params = open_experiment(path)\n",
    "cfg_path=params[\"cfg_path\"]"
   ]
  },
  {
   "cell_type": "code",
   "execution_count": null,
   "metadata": {
    "scrolled": true
   },
   "outputs": [],
   "source": [
    "'choose the test dataset'\n",
    "test_dataset = PointCld_dataset(dataset_name='clean_polyhedra_test_50', size=50, cfg_path=cfg_path, mode=Mode.TEST, seed=7, batch_size=1)\n",
    "test_loader = torch.utils.data.DataLoader(dataset=test_dataset,\n",
    "                                              batch_size=1,\n",
    "                                              shuffle=False, num_workers=4)\n",
    "\n",
    "evaluator = Evaluation(cfg_path, cuda_device_id=7)"
   ]
  },
  {
   "cell_type": "code",
   "execution_count": null,
   "metadata": {
    "scrolled": false
   },
   "outputs": [],
   "source": [
    "'run evaluation'\n",
    "evaluator.setup_model(model=Network, convModel='resnet', model_file_name='trained_model.pth')\n",
    "evaluator.evaluation(test_loader, save_to_disc=True, visualize=False)"
   ]
  },
  {
   "cell_type": "code",
   "execution_count": null,
   "metadata": {},
   "outputs": [],
   "source": []
  }
 ],
 "metadata": {
  "kernelspec": {
   "display_name": "Python 3",
   "language": "python",
   "name": "python3"
  },
  "language_info": {
   "codemirror_mode": {
    "name": "ipython",
    "version": 3
   },
   "file_extension": ".py",
   "mimetype": "text/x-python",
   "name": "python",
   "nbconvert_exporter": "python",
   "pygments_lexer": "ipython3",
   "version": "3.6.8"
  }
 },
 "nbformat": 4,
 "nbformat_minor": 2
}
