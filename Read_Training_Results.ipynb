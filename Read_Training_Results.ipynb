{
 "cells": [
  {
   "cell_type": "code",
   "execution_count": null,
   "metadata": {},
   "outputs": [],
   "source": [
    "%load_ext autoreload\n",
    "%autoreload 2"
   ]
  },
  {
   "cell_type": "code",
   "execution_count": null,
   "metadata": {},
   "outputs": [],
   "source": [
    "from IPython.display import Image\n",
    "from IPython.display import display\n",
    "import os\n",
    "from structureHelpers import *"
   ]
  },
  {
   "cell_type": "code",
   "execution_count": null,
   "metadata": {},
   "outputs": [],
   "source": [
    "path = 'Clean_ResNet18_Lr1e-4_epoch11_batchsize500_NVPD21_acceptance0.7_WR8_Adam_500train_12test_nosphere_Preprocessed'\n",
    "params = open_experiment(path)\n",
    "cfg_path = params['cfg_path']"
   ]
  },
  {
   "cell_type": "code",
   "execution_count": null,
   "metadata": {},
   "outputs": [],
   "source": [
    "identifiers_epochs = [int(name[len('threshold_epoch_'):-(len('.png'))]) for name in os.listdir(params['output_data_path']) if name.startswith('threshold_epoch_')]\n",
    "identifiers_epochs_max = max(identifiers_epochs) + 1\n",
    "\n",
    "for idx in range(identifiers_epochs_max):\n",
    "    print('Testing results in epoch ' + str(idx) + ' :')\n",
    "    img = Image(filename= os.path.join(params['output_data_path'], 'threshold_epoch_' + str(idx) + '.png'))\n",
    "    display(img)\n",
    "    identifiers_test_results = [name for name in os.listdir(params['output_data_path']) if name.startswith('training_epoch_' + str(idx) + '_')]\n",
    "    for result in identifiers_test_results:\n",
    "        img = Image(filename= os.path.join(params['output_data_path'], result)) \n",
    "        display(img)\n"
   ]
  },
  {
   "cell_type": "code",
   "execution_count": null,
   "metadata": {},
   "outputs": [],
   "source": [
    "'convert to html'\n",
    "\n",
    "!jupyter nbconvert --to html Read_Training_Results.ipynb\n"
   ]
  },
  {
   "cell_type": "code",
   "execution_count": null,
   "metadata": {},
   "outputs": [],
   "source": [
    "'store in output path'\n",
    "path = params['output_data_path']\n",
    "!mv Read_Training_Results.html {path}"
   ]
  }
 ],
 "metadata": {
  "kernelspec": {
   "display_name": "Python 3",
   "language": "python",
   "name": "python3"
  },
  "language_info": {
   "codemirror_mode": {
    "name": "ipython",
    "version": 3
   },
   "file_extension": ".py",
   "mimetype": "text/x-python",
   "name": "python",
   "nbconvert_exporter": "python",
   "pygments_lexer": "ipython3",
   "version": "3.6.8"
  }
 },
 "nbformat": 4,
 "nbformat_minor": 2
}
