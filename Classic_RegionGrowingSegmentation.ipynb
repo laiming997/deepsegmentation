{
 "cells": [
  {
   "cell_type": "code",
   "execution_count": null,
   "metadata": {
    "pycharm": {
     "is_executing": false
    }
   },
   "outputs": [],
   "source": [
    "%load_ext autoreload\n",
    "%autoreload 2"
   ]
  },
  {
   "cell_type": "code",
   "execution_count": null,
   "metadata": {
    "pycharm": {
     "is_executing": false
    }
   },
   "outputs": [],
   "source": [
    "import plotly.offline as py\n",
    "from Classic_RGS import rgs\n",
    "import numpy as np\n",
    "import math\n",
    "from PolyhedronGenerator.polyhedronGenerator import *\n",
    "\n",
    "'necessary to allow plotting in Jupyter notebook'\n",
    "py.init_notebook_mode(connected=True)"
   ]
  },
  {
   "cell_type": "code",
   "execution_count": null,
   "metadata": {
    "pycharm": {
     "is_executing": false
    }
   },
   "outputs": [],
   "source": [
    "'Parameters'\n",
    "threshold_angle = 10/180*math.pi\n",
    "input_path = 'Classic_RGS/input_data/1e-3_paper/'\n",
    "output_path = 'Classic_RGS/output_data/1e-3_paper/KNN_35k_10deg'\n",
    "\n",
    "curvatureThreshold = 1\n",
    "minClusterSize = 20\n",
    "method = 'KNN'\n",
    "k = 35\n",
    "viewPoint = [0,0,0]"
   ]
  },
  {
   "cell_type": "code",
   "execution_count": null,
   "metadata": {},
   "outputs": [],
   "source": [
    "pc_list=[name for name in os.listdir(input_path) if name.endswith(('.npy'))]\n",
    "\n",
    "for pc_name in pc_list:\n",
    "    'load pointSet'\n",
    "    pointSet = np.load(os.path.join(input_path, pc_name), allow_pickle=True)\n",
    "    'reshape to input of RegionGrowing object'\n",
    "    inputCloud = np.array([i.getCoordinates() for i in pointSet])\n",
    "\n",
    "    'do the region growing algorithm'\n",
    "    REG=rgs.RegionGrowing(inputCloud, smoothnessThreshold=threshold_angle, curvatureThreshold=curvatureThreshold, minClusterSize=minClusterSize)\n",
    "    REG.extract(method=method, k=k, viewPoint=viewPoint)\n",
    "\n",
    "    'display the point Cloud and found clusters'\n",
    "    VIS=rgs.Visualization(output_path=output_path, name=pc_name[:-len('.npy')], temp=False)\n",
    "    #VIS.displayPointCloud(REG.getPoints(), jupyter=False)\n",
    "    VIS.displayPointCloudSegmented(REG.getClusters(), include_outlier_list=True, jupyter=False)\n",
    "\n",
    "    'display the found normals'\n",
    "    #VIS.displayNormals(REG.getPoints(), sizeref=1, jupyter=False, max_cone_nr = 1000)"
   ]
  },
  {
   "cell_type": "code",
   "execution_count": null,
   "metadata": {},
   "outputs": [],
   "source": [
    "'Parameters'\n",
    "threshold_angle = 5/180*math.pi\n",
    "input_path = 'Classic_RGS/input_data/1e-4_paper/'\n",
    "output_path = 'Classic_RGS/output_data/1e-4_paper/KNN_30k_5deg'\n",
    "\n",
    "curvatureThreshold = 1\n",
    "minClusterSize = 20\n",
    "method = 'KNN'\n",
    "k = 30\n",
    "viewPoint = [0,0,0]"
   ]
  },
  {
   "cell_type": "code",
   "execution_count": null,
   "metadata": {},
   "outputs": [],
   "source": [
    "pc_list=[name for name in os.listdir(input_path) if name.endswith(('.npy'))]\n",
    "\n",
    "for pc_name in pc_list:\n",
    "    'load pointSet'\n",
    "    pointSet = np.load(os.path.join(input_path, pc_name), allow_pickle=True)\n",
    "    'reshape to input of RegionGrowing object'\n",
    "    inputCloud = np.array([i.getCoordinates() for i in pointSet])\n",
    "\n",
    "    'do the region growing algorithm'\n",
    "    REG=rgs.RegionGrowing(inputCloud, smoothnessThreshold=threshold_angle, curvatureThreshold=curvatureThreshold, minClusterSize=minClusterSize)\n",
    "    REG.extract(method=method, k=k, viewPoint=viewPoint)\n",
    "\n",
    "    'display the point Cloud and found clusters'\n",
    "    VIS=rgs.Visualization(output_path=output_path, name=pc_name[:-len('.npy')], temp=False)\n",
    "    #VIS.displayPointCloud(REG.getPoints(), jupyter=False)\n",
    "    VIS.displayPointCloudSegmented(REG.getClusters(), include_outlier_list=True, jupyter=False)\n",
    "\n",
    "    'display the found normals'\n",
    "    #VIS.displayNormals(REG.getPoints(), sizeref=1, jupyter=False, max_cone_nr = 1000)"
   ]
  },
  {
   "cell_type": "code",
   "execution_count": null,
   "metadata": {},
   "outputs": [],
   "source": [
    "'Parameters'\n",
    "threshold_angle = 3/180*math.pi\n",
    "input_path = 'Classic_RGS/input_data/clean_paper/'\n",
    "output_path = 'Classic_RGS/output_data/clean_paper/KNN_20k_3deg'\n",
    "\n",
    "curvatureThreshold = 1\n",
    "minClusterSize = 20\n",
    "method = 'KNN'\n",
    "k = 20\n",
    "viewPoint = [0,0,0]"
   ]
  },
  {
   "cell_type": "code",
   "execution_count": null,
   "metadata": {},
   "outputs": [],
   "source": [
    "pc_list=[name for name in os.listdir(input_path) if name.endswith(('.npy'))]\n",
    "\n",
    "for pc_name in pc_list:\n",
    "    'load pointSet'\n",
    "    pointSet = np.load(os.path.join(input_path, pc_name), allow_pickle=True)\n",
    "    'reshape to input of RegionGrowing object'\n",
    "    inputCloud = np.array([i.getCoordinates() for i in pointSet])\n",
    "\n",
    "    'do the region growing algorithm'\n",
    "    REG=rgs.RegionGrowing(inputCloud, smoothnessThreshold=threshold_angle, curvatureThreshold=curvatureThreshold, minClusterSize=minClusterSize)\n",
    "    REG.extract(method=method, k=k, viewPoint=viewPoint)\n",
    "\n",
    "    'display the point Cloud and found clusters'\n",
    "    VIS=rgs.Visualization(output_path=output_path, name=pc_name[:-len('.npy')], temp=False)\n",
    "    #VIS.displayPointCloud(REG.getPoints(), jupyter=False)\n",
    "    VIS.displayPointCloudSegmented(REG.getClusters(), include_outlier_list=True, jupyter=False)\n",
    "\n",
    "    'display the found normals'\n",
    "    #VIS.displayNormals(REG.getPoints(), sizeref=1, jupyter=False, max_cone_nr = 1000)"
   ]
  },
  {
   "cell_type": "code",
   "execution_count": null,
   "metadata": {},
   "outputs": [],
   "source": [
    "'Parameters'\n",
    "threshold_angle = 10/180*math.pi\n",
    "input_path = 'Classic_RGS/input_data/1e-4_CubeRounded/'\n",
    "output_path = 'Classic_RGS/output_data/1e-4_CubeRounded/KNN_20k_10deg'\n",
    "\n",
    "curvatureThreshold = 1\n",
    "minClusterSize = 20\n",
    "method = 'KNN'\n",
    "k = 20\n",
    "viewPoint = [0,0,0]"
   ]
  },
  {
   "cell_type": "code",
   "execution_count": null,
   "metadata": {},
   "outputs": [],
   "source": [
    "pc_list=[name for name in os.listdir(input_path) if name.endswith(('.npy'))]\n",
    "\n",
    "for pc_name in pc_list:\n",
    "    'load pointSet'\n",
    "    pointSet = np.load(os.path.join(input_path, pc_name), allow_pickle=True)\n",
    "    'reshape to input of RegionGrowing object'\n",
    "    inputCloud = np.array([i.getCoordinates() for i in pointSet])\n",
    "\n",
    "    'do the region growing algorithm'\n",
    "    REG=rgs.RegionGrowing(inputCloud, smoothnessThreshold=threshold_angle, curvatureThreshold=curvatureThreshold, minClusterSize=minClusterSize)\n",
    "    REG.extract(method=method, k=k, viewPoint=viewPoint)\n",
    "\n",
    "    'display the point Cloud and found clusters'\n",
    "    VIS=rgs.Visualization(output_path=output_path, name=pc_name[:-len('.npy')], temp=False)\n",
    "    #VIS.displayPointCloud(REG.getPoints(), jupyter=False)\n",
    "    VIS.displayPointCloudSegmented(REG.getClusters(), include_outlier_list=True, jupyter=False)\n",
    "\n",
    "    'display the found normals'\n",
    "    #VIS.displayNormals(REG.getPoints(), sizeref=1, jupyter=False, max_cone_nr = 1000)"
   ]
  }
 ],
 "metadata": {
  "kernelspec": {
   "display_name": "Python 3",
   "language": "python",
   "name": "python3"
  },
  "language_info": {
   "codemirror_mode": {
    "name": "ipython",
    "version": 3
   },
   "file_extension": ".py",
   "mimetype": "text/x-python",
   "name": "python",
   "nbconvert_exporter": "python",
   "pygments_lexer": "ipython3",
   "version": "3.6.8"
  },
  "pycharm": {
   "stem_cell": {
    "cell_type": "raw",
    "metadata": {
     "collapsed": false
    },
    "source": []
   }
  }
 },
 "nbformat": 4,
 "nbformat_minor": 2
}
