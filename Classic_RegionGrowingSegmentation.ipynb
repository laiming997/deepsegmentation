{
 "cells": [
  {
   "cell_type": "code",
   "execution_count": 1,
   "metadata": {
    "pycharm": {
     "is_executing": false
    }
   },
   "outputs": [],
   "source": [
    "%load_ext autoreload\n",
    "%autoreload 2"
   ]
  },
  {
   "cell_type": "code",
   "execution_count": 2,
   "metadata": {
    "pycharm": {
     "is_executing": false
    }
   },
   "outputs": [
    {
     "data": {
      "text/html": [
       "        <script type=\"text/javascript\">\n",
       "        window.PlotlyConfig = {MathJaxConfig: 'local'};\n",
       "        if (window.MathJax) {MathJax.Hub.Config({SVG: {font: \"STIX-Web\"}});}\n",
       "        if (typeof require !== 'undefined') {\n",
       "        require.undef(\"plotly\");\n",
       "        requirejs.config({\n",
       "            paths: {\n",
       "                'plotly': ['https://cdn.plot.ly/plotly-latest.min']\n",
       "            }\n",
       "        });\n",
       "        require(['plotly'], function(Plotly) {\n",
       "            window._Plotly = Plotly;\n",
       "        });\n",
       "        }\n",
       "        </script>\n",
       "        "
      ]
     },
     "metadata": {},
     "output_type": "display_data"
    }
   ],
   "source": [
    "import plotly.offline as py\n",
    "from Classic_RGS import rgs\n",
    "import numpy as np\n",
    "import math\n",
    "from PolyhedronGenerator.polyhedronGenerator import *\n",
    "\n",
    "'necessary to allow plotting in Jupyter notebook'\n",
    "py.init_notebook_mode(connected=True)"
   ]
  },
  {
   "cell_type": "code",
   "execution_count": 3,
   "metadata": {
    "pycharm": {
     "is_executing": false
    }
   },
   "outputs": [],
   "source": [
    "'Parameters'\n",
    "threshold_angle = 10/180*math.pi\n",
    "input_path = 'Classic_RGS/input_data/1e-3_paper/'\n",
    "output_path = './Classic_RGS/output_data/noisy_1e-3var/KNN_200k_10deg'\n",
    "\n",
    "curvatureThreshold = 1\n",
    "minClusterSize = 20\n",
    "method = 'KNN'\n",
    "k = 200\n",
    "viewPoint = [0,0,0]"
   ]
  },
  {
   "cell_type": "code",
   "execution_count": null,
   "metadata": {},
   "outputs": [],
   "source": [
    "'Try on a cube'\n",
    "\n",
    "'load pointSet'\n",
    "pointSet = np.load(input_path + 'Cube.npy', allow_pickle=True)\n",
    "'reshape to input of RegionGrowing object'\n",
    "inputCloud = np.array([i.getCoordinates() for i in pointSet])\n",
    "\n",
    "'do the region growing algorithm'\n",
    "REG=rgs.RegionGrowing(inputCloud, smoothnessThreshold=threshold_angle, curvatureThreshold=curvatureThreshold, minClusterSize=minClusterSize) \n",
    "REG.extract(method=method, k=k, viewPoint=viewPoint)\n",
    "\n",
    "'display the point Cloud and found clusters'\n",
    "tmp_path = './Classic_RGS/temp_data'\n",
    "VIS=rgs.Visualization(output_path=tmp_path, temp=True)\n",
    "VIS.displayPointCloud(REG.getPoints(), jupyter=True)\n",
    "VIS.displayPointCloudSegmented(REG.getClusters(), include_outlier_list=True, jupyter=True)\n"
   ]
  },
  {
   "cell_type": "code",
   "execution_count": null,
   "metadata": {},
   "outputs": [],
   "source": [
    "'display the found normals'\n",
    "VIS.displayNormals(REG.getPoints(), sizeref=1, jupyter=True, max_cone_nr = 1000)"
   ]
  },
  {
   "cell_type": "code",
   "execution_count": null,
   "metadata": {},
   "outputs": [],
   "source": [
    "pc_list=[name for name in os.listdir(input_path) if name.endswith(('.npy'))]\n",
    "\n",
    "for pc_name in pc_list:\n",
    "    'load pointSet'\n",
    "    pointSet = np.load(os.path.join(input_path, pc_name), allow_pickle=True)\n",
    "    'reshape to input of RegionGrowing object'\n",
    "    inputCloud = np.array([i.getCoordinates() for i in pointSet])\n",
    "\n",
    "    'do the region growing algorithm'\n",
    "    REG=rgs.RegionGrowing(inputCloud, smoothnessThreshold=threshold_angle, curvatureThreshold=curvatureThreshold, minClusterSize=minClusterSize)\n",
    "    REG.extract(method=method, k=k, viewPoint=viewPoint)\n",
    "\n",
    "    'display the point Cloud and found clusters'\n",
    "    VIS=rgs.Visualization(output_path=output_path, name=pc_name[:-len('.npy')], temp=False)\n",
    "    VIS.displayPointCloud(REG.getPoints(), jupyter=False)\n",
    "    VIS.displayPointCloudSegmented(REG.getClusters(), include_outlier_list=True, jupyter=False)\n",
    "\n",
    "    'display the found normals'\n",
    "    VIS.displayNormals(REG.getPoints(), sizeref=1, jupyter=False, max_cone_nr = 1000)"
   ]
  },
  {
   "cell_type": "code",
   "execution_count": null,
   "metadata": {},
   "outputs": [],
   "source": []
  }
 ],
 "metadata": {
  "kernelspec": {
   "display_name": "Python 3",
   "language": "python",
   "name": "python3"
  },
  "language_info": {
   "codemirror_mode": {
    "name": "ipython",
    "version": 3
   },
   "file_extension": ".py",
   "mimetype": "text/x-python",
   "name": "python",
   "nbconvert_exporter": "python",
   "pygments_lexer": "ipython3",
   "version": "3.6.8"
  },
  "pycharm": {
   "stem_cell": {
    "cell_type": "raw",
    "metadata": {
     "collapsed": false
    },
    "source": []
   }
  }
 },
 "nbformat": 4,
 "nbformat_minor": 2
}
