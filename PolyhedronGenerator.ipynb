{
 "cells": [
  {
   "cell_type": "code",
   "execution_count": null,
   "metadata": {},
   "outputs": [],
   "source": [
    "%load_ext autoreload\n",
    "%autoreload 2"
   ]
  },
  {
   "cell_type": "code",
   "execution_count": null,
   "metadata": {},
   "outputs": [],
   "source": [
    "from PolyhedronGenerator.polyhedronGenerator import *\n",
    "import numpy as np\n",
    "import plotly.offline as py\n",
    "from utils.mode import Mode\n",
    "\n",
    "'necessary to allow plotting in Jupyter notebook'\n",
    "py.init_notebook_mode(connected=True)"
   ]
  },
  {
   "cell_type": "code",
   "execution_count": null,
   "metadata": {},
   "outputs": [],
   "source": [
    "'do not use vertex scaling factors by setting them to 1'\n",
    "scaleC_i = np.zeros((5))\n",
    "scaleC_i[0] = scaleC_i[1] = scaleC_i[2] = scaleC_i[3] = scaleC_i[4] = 1\n",
    "\n",
    "'get the polyhedra vertices'\n",
    "dict_polyhedra = return_polyhedra(scaleC0=scaleC_i[0], scaleC1=scaleC_i[1], scaleC2=scaleC_i[2],\n",
    "                                  scaleC3=scaleC_i[3], scaleC4=scaleC_i[4], mode=Mode.TRAIN)\n",
    "\n",
    "'plot 3 random polyhedra during generation. Attention: With >100.000 points, jupyter notebook might crash'\n",
    "rnd = np.random.randint(0, len(dict_polyhedra.keys()), 3)\n",
    "\n",
    "'generate polyhedra'\n",
    "plot_counter = 0\n",
    "for key in dict_polyhedra:\n",
    "    'On choosing the variance: if unscaled polyhedra are used, variance=0.01 is already high'\n",
    "    poly = polyhedronGenerator(dict_polyhedra[key], nr_points_polyhedron=10000, name=key,\n",
    "                               mode='clean', variance=0.001, scaling=1)\n",
    "    points = poly.convexHullGenerate()\n",
    "    if plot_counter in rnd:\n",
    "        poly.visualize(jupyter=True, auto_open=False)\n",
    "    else:\n",
    "        poly.visualize(jupyter=False, auto_open=False)\n",
    "    poly.save()\n",
    "    plot_counter += 1"
   ]
  },
  {
   "cell_type": "code",
   "execution_count": null,
   "metadata": {},
   "outputs": [],
   "source": [
    "'generate a sphere'\n",
    "points = poly.sphereGenerate(radius=1, phi_limits=[0.0, 2* np.pi], cos_theta_limits=[-1.0, 1.0])\n",
    "poly.visualize(jupyter=True, auto_open=False)\n",
    "poly.save()"
   ]
  },
  {
   "cell_type": "code",
   "execution_count": null,
   "metadata": {
    "scrolled": true
   },
   "outputs": [],
   "source": [
    "'rotate a polyhedron'\n",
    "\n",
    "poly.load(os.path.join('data/input_data/clean_paper_illustrations/Cube_0.npy'))\n",
    "poly.name = 'Rotation'\n",
    "yaw = np.pi/3\n",
    "pitch = roll = 0\n",
    "for i in range(poly.points_polyhedron.shape[0]):\n",
    "    poly.points_polyhedron[i] = np.transpose(np.matmul(poly.rotate3D(yaw, pitch, roll), np.transpose(poly.points_polyhedron[i])))\n",
    "poly.visualize(jupyter=True, auto_open=False)\n"
   ]
  },
  {
   "cell_type": "code",
   "execution_count": null,
   "metadata": {},
   "outputs": [],
   "source": [
    "'Round off the edges'\n",
    "poly.load(os.path.join('data/input_data/clean_paper_illustrations/Cube_0.npy'))\n",
    "poly.points_polyhedron = poly.round_edges(poly.points_polyhedron, 100)\n",
    "poly.visualize(jupyter=True, auto_open=False)"
   ]
  }
 ],
 "metadata": {
  "kernelspec": {
   "display_name": "Python 3",
   "language": "python",
   "name": "python3"
  },
  "language_info": {
   "codemirror_mode": {
    "name": "ipython",
    "version": 3
   },
   "file_extension": ".py",
   "mimetype": "text/x-python",
   "name": "python",
   "nbconvert_exporter": "python",
   "pygments_lexer": "ipython3",
   "version": "3.6.8"
  }
 },
 "nbformat": 4,
 "nbformat_minor": 2
}
