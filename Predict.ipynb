{
 "cells": [
  {
   "cell_type": "code",
   "execution_count": null,
   "metadata": {},
   "outputs": [],
   "source": [
    "%load_ext autoreload\n",
    "%autoreload 2"
   ]
  },
  {
   "cell_type": "code",
   "execution_count": null,
   "metadata": {},
   "outputs": [],
   "source": [
    "import torch\n",
    "from data.pointCld_dataset import PointCld_dataset\n",
    "from prediction import *\n",
    "from training import * \n",
    "from PolyhedronGenerator.polyhedronGenerator import Point\n",
    "from Network import postprocessing\n",
    "\n",
    "import matplotlib.pyplot as plt\n",
    "import os\n",
    "\n",
    "import plotly.offline as py\n",
    "py.init_notebook_mode(connected=True)\n"
   ]
  },
  {
   "cell_type": "code",
   "execution_count": null,
   "metadata": {},
   "outputs": [],
   "source": [
    "path = '1e-4_ResNet_Lr1e-4_epoch13_batchsize500_NVPD21_acceptance0.5_WR8_Adam_train500_validate50_nosphere_Preprocessed_ReLUAvgPool'\n",
    "params = open_experiment(path)\n",
    "cfg_path = params['cfg_path']"
   ]
  },
  {
   "cell_type": "code",
   "execution_count": null,
   "metadata": {},
   "outputs": [],
   "source": [
    "predict_dataset = PointCld_dataset(dataset_name='clean_predict_50',\n",
    "                                    size=50, mode=Mode.PREDICT, cfg_path=cfg_path, augmentation=None, batch_size=1)\n",
    "\n",
    "predict_loader = torch.utils.data.DataLoader(dataset=predict_dataset,\n",
    "                                               batch_size=1,\n",
    "                                               shuffle=False, num_workers=4)\n",
    "predictor = Prediction(cfg_path, cuda_device_id=6)\n"
   ]
  },
  {
   "cell_type": "code",
   "execution_count": null,
   "metadata": {
    "scrolled": true
   },
   "outputs": [],
   "source": [
    "predictor.setup_model(model=Network, convModel='resnet', model_file_name=params['trained_model_name'])\n",
    "\n",
    "predictor.predict(predict_loader)\n",
    "\n",
    "'read params new, because predictions folder will be added'\n",
    "params = open_experiment(path)\n",
    "cfg_path = params['cfg_path']"
   ]
  },
  {
   "cell_type": "code",
   "execution_count": null,
   "metadata": {
    "scrolled": true
   },
   "outputs": [],
   "source": [
    "'open a csv file to store execution times'\n",
    "with open(os.path.join(params[\"predictions_path\"], 'Prediction_Statistics.csv'), mode='w') as file:\n",
    "                        writer = csv.writer(file, delimiter=',', quotechar='\"',\n",
    "                                            quoting=csv.QUOTE_MINIMAL)\n",
    "                        writer.writerow(['Name', 'NrPatches', 'ExecutionTime'])"
   ]
  },
  {
   "cell_type": "code",
   "execution_count": null,
   "metadata": {},
   "outputs": [],
   "source": [
    "'run convext optimization and rounding over all above predicted point clouds'\n",
    "\n",
    "identifiers = [name[:-(len('_relation_matrix_network.npy'))] for name in \\\n",
    "                           os.listdir(params['predictions_path']) if name.endswith('_relation_matrix_network.npy')]\n",
    "\n",
    "import time\n",
    "start_time = time.time()\n",
    "\n",
    "for identifier in identifiers:\n",
    "    post_processor = postprocessing.Postprocessor(cfg_path, mode='prediction', oracle_m=14)\n",
    "    post_processor.load_data(name=identifier)\n",
    "    relation_matrix_cvx = post_processor.apply_MatchLift()\n",
    "    clusters = post_processor.enforce_consistent_clusters(relation_matrix_cvx)\n",
    "    post_processor.recover_point_cloud(clusters=clusters)\n",
    "    post_processor.visualize(jupyter=False, auto_open=False)\n",
    "    \n",
    "    'store information to disc'\n",
    "    with open(os.path.join(params[\"predictions_path\"], 'Prediction_Statistics.csv'), mode='a') as file:\n",
    "                    writer = csv.writer(file, delimiter=',', quotechar='\"',\n",
    "                                        quoting=csv.QUOTE_MINIMAL)\n",
    "                    hours, rem = divmod(time.time() - start_time, 3600)\n",
    "                    minutes, seconds = divmod(rem, 60)\n",
    "                    writer.writerow([identifier, \n",
    "                                     str(relation_matrix_cvx.shape[0]),\n",
    "                                     str(\"{:0>2}:{:0>2}:{:05.2f}\".format(int(hours), int(minutes), seconds))])\n"
   ]
  },
  {
   "cell_type": "code",
   "execution_count": null,
   "metadata": {},
   "outputs": [],
   "source": []
  }
 ],
 "metadata": {
  "kernelspec": {
   "display_name": "Python 3",
   "language": "python",
   "name": "python3"
  },
  "language_info": {
   "codemirror_mode": {
    "name": "ipython",
    "version": 3
   },
   "file_extension": ".py",
   "mimetype": "text/x-python",
   "name": "python",
   "nbconvert_exporter": "python",
   "pygments_lexer": "ipython3",
   "version": "3.6.8"
  }
 },
 "nbformat": 4,
 "nbformat_minor": 2
}
