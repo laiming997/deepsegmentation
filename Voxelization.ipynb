{
 "cells": [
  {
   "cell_type": "code",
   "execution_count": null,
   "metadata": {},
   "outputs": [],
   "source": [
    "%load_ext autoreload\n",
    "%autoreload 2"
   ]
  },
  {
   "cell_type": "code",
   "execution_count": null,
   "metadata": {},
   "outputs": [],
   "source": [
    "from Network import preprocessing\n",
    "import numpy as np\n",
    "from PolyhedronGenerator.polyhedronGenerator import Point\n",
    "import plotly.offline as py\n",
    "from utils.mode import Mode\n",
    "\n",
    "py.init_notebook_mode(connected=True)\n"
   ]
  },
  {
   "cell_type": "code",
   "execution_count": null,
   "metadata": {},
   "outputs": [],
   "source": [
    "\"Preparing the data\"\n",
    "\n",
    "'load a point cloud .npy file'\n",
    "pc = np.load('data/input_data/clean_paper/Cube_0.npy', allow_pickle=True)\n",
    "\n",
    "'process the same way as it would be done by point cloud dataset file'\n",
    "point_cloud_coordinates = np.array([i.getCoordinates() for i in pc])\n",
    "point_cloud_segments = np.array([i.getSegment() for i in pc])\n",
    "point_cloud = tuple(([point_cloud_coordinates], [point_cloud_segments]))"
   ]
  },
  {
   "cell_type": "code",
   "execution_count": null,
   "metadata": {},
   "outputs": [],
   "source": [
    "'build the patches'\n",
    "net = preprocessing.Point_Cloud_Processing(Mode.TRAIN)\n",
    "patches, _ = net.build_patches(point_cloud, k=100, cap_shift=0.1)\n",
    "\n",
    "'show all patches'\n",
    "net.visualize_patches(np.array(patches[:,0]), jupyter = True, auto_open=False)\n"
   ]
  },
  {
   "cell_type": "code",
   "execution_count": null,
   "metadata": {},
   "outputs": [],
   "source": [
    "'show one of the patches and its voxelized version'\n",
    "net.visualize_patches(np.expand_dims(patches[:,0][0], axis=0), jupyter = True, auto_open=False)"
   ]
  },
  {
   "cell_type": "code",
   "execution_count": null,
   "metadata": {},
   "outputs": [],
   "source": [
    "voxels, _ = net.voxelize_patches(patches[:,0], nr_voxels_per_dim=21, visualize=True)\n",
    "net.visualize_voxels(voxels[0][0], jupyter=True, auto_open=False)\n"
   ]
  },
  {
   "cell_type": "code",
   "execution_count": null,
   "metadata": {},
   "outputs": [],
   "source": []
  }
 ],
 "metadata": {
  "kernelspec": {
   "display_name": "Python 3",
   "language": "python",
   "name": "python3"
  },
  "language_info": {
   "codemirror_mode": {
    "name": "ipython",
    "version": 3
   },
   "file_extension": ".py",
   "mimetype": "text/x-python",
   "name": "python",
   "nbconvert_exporter": "python",
   "pygments_lexer": "ipython3",
   "version": "3.6.8"
  }
 },
 "nbformat": 4,
 "nbformat_minor": 2
}
